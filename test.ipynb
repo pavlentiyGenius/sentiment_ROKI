{
 "cells": [
  {
   "cell_type": "markdown",
   "id": "e6ac6817",
   "metadata": {},
   "source": [
    "# Test sentiment model"
   ]
  },
  {
   "cell_type": "code",
   "execution_count": 1,
   "id": "bf2b6305",
   "metadata": {},
   "outputs": [],
   "source": [
    "from sentence_transformers import util"
   ]
  },
  {
   "cell_type": "code",
   "execution_count": 2,
   "id": "d8641256",
   "metadata": {},
   "outputs": [],
   "source": [
    "from utils import sentiment"
   ]
  },
  {
   "cell_type": "code",
   "execution_count": null,
   "id": "d659cc3e",
   "metadata": {},
   "outputs": [
    {
     "name": "stderr",
     "output_type": "stream",
     "text": [
      "You try to use a model that was created with version 2.6.1, however, your version is 2.5.1. This might cause unexpected behavior or errors. In that case, try to update to the latest version.\n",
      "\n",
      "\n",
      "\n"
     ]
    },
    {
     "data": {
      "application/vnd.jupyter.widget-view+json": {
       "model_id": "c0dd8075215e450dabe8397818c3239c",
       "version_major": 2,
       "version_minor": 0
      },
      "text/plain": [
       "model.safetensors:   0%|          | 0.00/1.11G [00:00<?, ?B/s]"
      ]
     },
     "metadata": {},
     "output_type": "display_data"
    },
    {
     "name": "stderr",
     "output_type": "stream",
     "text": [
      "C:\\Users\\pavel\\anaconda3\\lib\\site-packages\\huggingface_hub\\file_download.py:149: UserWarning: `huggingface_hub` cache-system uses symlinks by default to efficiently store duplicated files but your machine does not support them in C:\\Users\\pavel\\.cache\\huggingface\\hub\\models--pavlentiy--reviews-sentiment-multilingual-e5-base. Caching files will still work but in a degraded version that might require more space on your disk. This warning can be disabled by setting the `HF_HUB_DISABLE_SYMLINKS_WARNING` environment variable. For more details, see https://huggingface.co/docs/huggingface_hub/how-to-cache#limitations.\n",
      "To support symlinks on Windows, you either need to activate Developer Mode or to run Python as an administrator. In order to see activate developer mode, see this article: https://docs.microsoft.com/en-us/windows/apps/get-started/enable-your-device-for-development\n",
      "  warnings.warn(message)\n"
     ]
    }
   ],
   "source": [
    "sentim = sentiment.Sentiment()"
   ]
  },
  {
   "cell_type": "code",
   "execution_count": null,
   "id": "dfdbd77d",
   "metadata": {},
   "outputs": [],
   "source": []
  },
  {
   "cell_type": "code",
   "execution_count": 30,
   "id": "693b601e",
   "metadata": {},
   "outputs": [
    {
     "name": "stdout",
     "output_type": "stream",
     "text": [
      "['позитив', 'негатив']\n"
     ]
    }
   ],
   "source": [
    "import numpy as np\n",
    "from sentence_transformers import SentenceTransformer, util\n",
    "\n",
    "sentences = [\"Замечательный препарат, все пользуемся\", \"Последнее время данный препарат вызывает у меня сыпь\"]\n",
    "classes = ['негатив', 'нейтрально', 'позитив']\n",
    "\n",
    "\n",
    "model = SentenceTransformer('pavlentiy/reviews-sentiment-multilingual-e5-base')\n",
    "embeddings = model.encode(sentences)\n",
    "embeddings_classes = model.encode(classes)\n",
    "\n",
    "# Compute cosine-similarities\n",
    "cosine_scores = np.array(util.cos_sim(embeddings, embeddings_classes))\n",
    "\n",
    "a = lambda t: {0:'негатив', 1:'нейтральная', 2:'позитив'}[t]\n",
    "argmax = cosine_scores.argmax(axis=1)\n",
    "result_classes = list(map(a, argmax))\n",
    "print(result_classes)"
   ]
  },
  {
   "cell_type": "code",
   "execution_count": 25,
   "id": "563eecdb",
   "metadata": {},
   "outputs": [],
   "source": []
  },
  {
   "cell_type": "code",
   "execution_count": 26,
   "id": "1912fd28",
   "metadata": {},
   "outputs": [],
   "source": []
  },
  {
   "cell_type": "code",
   "execution_count": 27,
   "id": "f49f746b",
   "metadata": {},
   "outputs": [
    {
     "ename": "KeyError",
     "evalue": "tensor(2)",
     "output_type": "error",
     "traceback": [
      "\u001b[1;31m---------------------------------------------------------------------------\u001b[0m",
      "\u001b[1;31mKeyError\u001b[0m                                  Traceback (most recent call last)",
      "\u001b[1;32m~\\AppData\\Local\\Temp\\ipykernel_1080\\123851771.py\u001b[0m in \u001b[0;36m<module>\u001b[1;34m\u001b[0m\n\u001b[1;32m----> 1\u001b[1;33m \u001b[0mlist\u001b[0m\u001b[1;33m(\u001b[0m\u001b[0mmap\u001b[0m\u001b[1;33m(\u001b[0m\u001b[0ma\u001b[0m\u001b[1;33m,\u001b[0m \u001b[0margmax\u001b[0m\u001b[1;33m)\u001b[0m\u001b[1;33m)\u001b[0m\u001b[1;33m\u001b[0m\u001b[1;33m\u001b[0m\u001b[0m\n\u001b[0m",
      "\u001b[1;32m~\\AppData\\Local\\Temp\\ipykernel_1080\\4068279523.py\u001b[0m in \u001b[0;36m<lambda>\u001b[1;34m(t)\u001b[0m\n\u001b[1;32m----> 1\u001b[1;33m \u001b[0ma\u001b[0m \u001b[1;33m=\u001b[0m \u001b[1;32mlambda\u001b[0m \u001b[0mt\u001b[0m\u001b[1;33m:\u001b[0m \u001b[0mmapping\u001b[0m\u001b[1;33m[\u001b[0m\u001b[0mt\u001b[0m\u001b[1;33m]\u001b[0m\u001b[1;33m\u001b[0m\u001b[1;33m\u001b[0m\u001b[0m\n\u001b[0m",
      "\u001b[1;31mKeyError\u001b[0m: tensor(2)"
     ]
    }
   ],
   "source": []
  },
  {
   "cell_type": "code",
   "execution_count": null,
   "id": "007bd9a3",
   "metadata": {},
   "outputs": [],
   "source": []
  },
  {
   "cell_type": "code",
   "execution_count": 19,
   "id": "1aec42d8",
   "metadata": {},
   "outputs": [
    {
     "ename": "TypeError",
     "evalue": "unhashable type: 'numpy.ndarray'",
     "output_type": "error",
     "traceback": [
      "\u001b[1;31m---------------------------------------------------------------------------\u001b[0m",
      "\u001b[1;31mTypeError\u001b[0m                                 Traceback (most recent call last)",
      "\u001b[1;32m~\\AppData\\Local\\Temp\\ipykernel_1080\\1241357311.py\u001b[0m in \u001b[0;36m<module>\u001b[1;34m\u001b[0m\n\u001b[1;32m----> 1\u001b[1;33m \u001b[0ma\u001b[0m\u001b[1;33m(\u001b[0m\u001b[0margmax\u001b[0m\u001b[1;33m)\u001b[0m\u001b[1;33m\u001b[0m\u001b[1;33m\u001b[0m\u001b[0m\n\u001b[0m",
      "\u001b[1;32m~\\AppData\\Local\\Temp\\ipykernel_1080\\4068279523.py\u001b[0m in \u001b[0;36m<lambda>\u001b[1;34m(t)\u001b[0m\n\u001b[1;32m----> 1\u001b[1;33m \u001b[0ma\u001b[0m \u001b[1;33m=\u001b[0m \u001b[1;32mlambda\u001b[0m \u001b[0mt\u001b[0m\u001b[1;33m:\u001b[0m \u001b[0mmapping\u001b[0m\u001b[1;33m[\u001b[0m\u001b[0mt\u001b[0m\u001b[1;33m]\u001b[0m\u001b[1;33m\u001b[0m\u001b[1;33m\u001b[0m\u001b[0m\n\u001b[0m",
      "\u001b[1;31mTypeError\u001b[0m: unhashable type: 'numpy.ndarray'"
     ]
    }
   ],
   "source": [
    "a(argmax)"
   ]
  },
  {
   "cell_type": "code",
   "execution_count": null,
   "id": "f35582f3",
   "metadata": {},
   "outputs": [],
   "source": []
  },
  {
   "cell_type": "markdown",
   "id": "7f22a609",
   "metadata": {},
   "source": [
    "# Test BOT"
   ]
  },
  {
   "cell_type": "code",
   "execution_count": 6,
   "id": "a4cd99fd",
   "metadata": {
    "execution": {
     "iopub.execute_input": "2024-04-24T15:39:45.017855Z",
     "iopub.status.busy": "2024-04-24T15:39:45.017068Z"
    },
    "tags": []
   },
   "outputs": [
    {
     "name": "stderr",
     "output_type": "stream",
     "text": [
      "INFO:root:Server started\n"
     ]
    }
   ],
   "source": [
    "import telebot\n",
    "import pandas as pd\n",
    "import numpy as np\n",
    "from utils import sentiment\n",
    "from utils import preprocessing\n",
    "\n",
    "import io\n",
    "import telebot\n",
    "from telebot import types\n",
    "\n",
    "import warnings\n",
    "import logging\n",
    "\n",
    "warnings.filterwarnings(\"ignore\")\n",
    "\n",
    "logging.basicConfig(level=logging.INFO)\n",
    "\n",
    "# bot = telebot.TeleBot('7004638154:AAHSXlAn6hhu999TmK9Nkzc4AIoVJHXW9GA') # prom stand\n",
    "bot = telebot.TeleBot('7139634075:AAG_TtOalJPAUqSnfXLEQknNe0QkiPQpTfQ') # ift stand\n",
    "\n",
    "preproc = preprocessing.Preprocessing\n",
    "# sentim = sentiment.Sentiment()\n",
    "sentim = sentiment.Sentiment_TEST()\n",
    "\n",
    "@bot.message_handler(commands=['start', 'button'])\n",
    "def welcome(message):\n",
    "    markup = types.ReplyKeyboardMarkup(resize_keyboard=True)\n",
    "    bot.send_message(message.chat.id, \"Определение тональности текстов\\nДобавьте файл в формате .xlsx\\nСтолбец с текстом для обработки должен называть 'Текст сообщения'\")\n",
    "\n",
    "\n",
    "@bot.message_handler(content_types=['document'])\n",
    "def handle_docs_photo(message):\n",
    "    try:\n",
    "        chat_id = message.chat.id\n",
    "\n",
    "        file_info = bot.get_file(message.document.file_id)\n",
    "        downloaded_file = bot.download_file(file_info.file_path)\n",
    "        df = pd.read_excel(downloaded_file)\n",
    "        \n",
    "        minutes = round(df.shape[0] * 1.2,) // 60\n",
    "        seconds = round(df.shape[0] * 1.2,) % 60\n",
    "        bot.reply_to(message, f\"Взял в обработку, нужно немного времени\\nПримерное время обработки {minutes}:{seconds}\")\n",
    "        \n",
    "        redused = df[~df['Текст сообщения'].isna()]\n",
    "        redused['Текст сообщения'] = redused['Текст сообщения'].apply(lambda x: preproc.soft_preprocessing(x))\n",
    "        sentences = redused['Текст сообщения'].tolist()\n",
    "        sentiment_result, sureness = sentim.get_sentiment(sentences)\n",
    "        redused['model sentiment'] = sentiment_result\n",
    "        redused['model sureness'] = sureness\n",
    "        \n",
    "        df = df.join(redused[['model sentiment', 'model sureness']])\n",
    "            \n",
    "        buf = io.BytesIO()\n",
    "        \n",
    "        df.to_excel(buf, encoding='utf-8', index = False, header = True, )\n",
    "        \n",
    "        filename_old = message.document.file_name\n",
    "        filename_new = filename_old.split('.')[0] + '__processed__.' + filename_old.split('.')[1]\n",
    "        \n",
    "        bot.send_document(chat_id, buf.getvalue(), visible_file_name=filename_new)\n",
    "#         bot.send_message(message.chat.id, text=\"Файл обработан. Переименуйте его с расширением .xlsx\")\n",
    "        buf.close()\n",
    "        \n",
    "    except Exception as e:\n",
    "        bot.reply_to(message, e)    \n",
    "    \n",
    "logging.info('Server started')\n",
    "bot.polling(none_stop=True, interval=0)"
   ]
  },
  {
   "cell_type": "code",
   "execution_count": 6,
   "id": "43245a5d",
   "metadata": {},
   "outputs": [
    {
     "data": {
      "text/plain": [
       "'Цитобронхо_март__processed__.xlsx'"
      ]
     },
     "execution_count": 6,
     "metadata": {},
     "output_type": "execute_result"
    }
   ],
   "source": []
  }
 ],
 "metadata": {
  "kernelspec": {
   "display_name": "Python 3 (ipykernel)",
   "language": "python",
   "name": "python3"
  },
  "language_info": {
   "codemirror_mode": {
    "name": "ipython",
    "version": 3
   },
   "file_extension": ".py",
   "mimetype": "text/x-python",
   "name": "python",
   "nbconvert_exporter": "python",
   "pygments_lexer": "ipython3",
   "version": "3.9.13"
  }
 },
 "nbformat": 4,
 "nbformat_minor": 5
}
