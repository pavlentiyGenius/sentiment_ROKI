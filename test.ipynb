{
 "cells": [
  {
   "cell_type": "markdown",
   "id": "e6ac6817",
   "metadata": {},
   "source": [
    "# Test sentiment model"
   ]
  },
  {
   "cell_type": "code",
   "execution_count": null,
   "id": "d8641256",
   "metadata": {},
   "outputs": [],
   "source": [
    "from utils import sentiment"
   ]
  },
  {
   "cell_type": "code",
   "execution_count": null,
   "id": "d659cc3e",
   "metadata": {},
   "outputs": [
    {
     "name": "stderr",
     "output_type": "stream",
     "text": [
      "INFO:sentence_transformers.SentenceTransformer:Load pretrained SentenceTransformer: tuned_model_v3\n",
      "WARNING:sentence_transformers.SentenceTransformer:You try to use a model that was created with version 2.6.1, however, your version is 2.5.1. This might cause unexpected behavior or errors. In that case, try to update to the latest version.\n",
      "\n",
      "\n",
      "\n"
     ]
    }
   ],
   "source": [
    "sentim = sentiment.Sentiment()"
   ]
  },
  {
   "cell_type": "code",
   "execution_count": 2,
   "id": "e3ff0f84",
   "metadata": {},
   "outputs": [],
   "source": [
    "sentim = sentiment.Sentiment_TEST()"
   ]
  },
  {
   "cell_type": "code",
   "execution_count": 4,
   "id": "e42570da",
   "metadata": {},
   "outputs": [
    {
     "data": {
      "text/plain": [
       "(['нейтральная_test', 'нейтральная_test'], [0.0, 0.0])"
      ]
     },
     "execution_count": 4,
     "metadata": {},
     "output_type": "execute_result"
    }
   ],
   "source": [
    "sentim.get_sentiment(['привет', 'привет'])"
   ]
  },
  {
   "cell_type": "markdown",
   "id": "7f22a609",
   "metadata": {},
   "source": [
    "# Test BOT"
   ]
  },
  {
   "cell_type": "code",
   "execution_count": 6,
   "id": "a4cd99fd",
   "metadata": {
    "execution": {
     "iopub.execute_input": "2024-04-24T15:39:45.017855Z",
     "iopub.status.busy": "2024-04-24T15:39:45.017068Z"
    },
    "tags": []
   },
   "outputs": [
    {
     "name": "stderr",
     "output_type": "stream",
     "text": [
      "INFO:root:Server started\n"
     ]
    }
   ],
   "source": [
    "import telebot\n",
    "import pandas as pd\n",
    "import numpy as np\n",
    "from utils import sentiment\n",
    "from utils import preprocessing\n",
    "\n",
    "import io\n",
    "import telebot\n",
    "from telebot import types\n",
    "\n",
    "import warnings\n",
    "import logging\n",
    "\n",
    "warnings.filterwarnings(\"ignore\")\n",
    "\n",
    "logging.basicConfig(level=logging.INFO)\n",
    "\n",
    "# bot = telebot.TeleBot('7004638154:AAHSXlAn6hhu999TmK9Nkzc4AIoVJHXW9GA') # prom stand\n",
    "bot = telebot.TeleBot('7139634075:AAG_TtOalJPAUqSnfXLEQknNe0QkiPQpTfQ') # ift stand\n",
    "\n",
    "preproc = preprocessing.Preprocessing\n",
    "# sentim = sentiment.Sentiment()\n",
    "sentim = sentiment.Sentiment_TEST()\n",
    "\n",
    "@bot.message_handler(commands=['start', 'button'])\n",
    "def welcome(message):\n",
    "    markup = types.ReplyKeyboardMarkup(resize_keyboard=True)\n",
    "    bot.send_message(message.chat.id, \"Определение тональности текстов\\nДобавьте файл в формате .xlsx\\nСтолбец с текстом для обработки должен называть 'Текст сообщения'\")\n",
    "\n",
    "\n",
    "@bot.message_handler(content_types=['document'])\n",
    "def handle_docs_photo(message):\n",
    "    try:\n",
    "        chat_id = message.chat.id\n",
    "\n",
    "        file_info = bot.get_file(message.document.file_id)\n",
    "        downloaded_file = bot.download_file(file_info.file_path)\n",
    "        df = pd.read_excel(downloaded_file)\n",
    "        \n",
    "        minutes = round(df.shape[0] * 1.2,) // 60\n",
    "        seconds = round(df.shape[0] * 1.2,) % 60\n",
    "        bot.reply_to(message, f\"Взял в обработку, нужно немного времени\\nПримерное время обработки {minutes}:{seconds}\")\n",
    "        \n",
    "        redused = df[~df['Текст сообщения'].isna()]\n",
    "        redused['Текст сообщения'] = redused['Текст сообщения'].apply(lambda x: preproc.soft_preprocessing(x))\n",
    "        sentences = redused['Текст сообщения'].tolist()\n",
    "        sentiment_result, sureness = sentim.get_sentiment(sentences)\n",
    "        redused['model sentiment'] = sentiment_result\n",
    "        redused['model sureness'] = sureness\n",
    "        \n",
    "        df = df.join(redused[['model sentiment', 'model sureness']])\n",
    "            \n",
    "        buf = io.BytesIO()\n",
    "        \n",
    "        df.to_excel(buf, encoding='utf-8', index = False, header = True, )\n",
    "        \n",
    "        filename_old = message.document.file_name\n",
    "        filename_new = filename_old.split('.')[0] + '__processed__.' + filename_old.split('.')[1]\n",
    "        \n",
    "        bot.send_document(chat_id, buf.getvalue(), visible_file_name=filename_new)\n",
    "#         bot.send_message(message.chat.id, text=\"Файл обработан. Переименуйте его с расширением .xlsx\")\n",
    "        buf.close()\n",
    "        \n",
    "    except Exception as e:\n",
    "        bot.reply_to(message, e)    \n",
    "    \n",
    "logging.info('Server started')\n",
    "bot.polling(none_stop=True, interval=0)"
   ]
  },
  {
   "cell_type": "code",
   "execution_count": 6,
   "id": "43245a5d",
   "metadata": {},
   "outputs": [
    {
     "data": {
      "text/plain": [
       "'Цитобронхо_март__processed__.xlsx'"
      ]
     },
     "execution_count": 6,
     "metadata": {},
     "output_type": "execute_result"
    }
   ],
   "source": []
  }
 ],
 "metadata": {
  "kernelspec": {
   "display_name": "Python 3 (ipykernel)",
   "language": "python",
   "name": "python3"
  },
  "language_info": {
   "codemirror_mode": {
    "name": "ipython",
    "version": 3
   },
   "file_extension": ".py",
   "mimetype": "text/x-python",
   "name": "python",
   "nbconvert_exporter": "python",
   "pygments_lexer": "ipython3",
   "version": "3.9.13"
  }
 },
 "nbformat": 4,
 "nbformat_minor": 5
}
